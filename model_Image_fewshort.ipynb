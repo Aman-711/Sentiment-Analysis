{
 "cells": [
  {
   "cell_type": "code",
   "execution_count": 3,
   "metadata": {},
   "outputs": [
    {
     "data": {
      "text/plain": [
       "(             event_name            tweet_id              image_id  \\\n",
       " 0  california_wildfires  917791291823591425  917791291823591425_0   \n",
       " 1  california_wildfires  917791291823591425  917791291823591425_1   \n",
       " 2  california_wildfires  917793137925459968  917793137925459968_0   \n",
       " 3  california_wildfires  917793137925459968  917793137925459968_1   \n",
       " 4  california_wildfires  917793137925459968  917793137925459968_2   \n",
       " \n",
       "                                           tweet_text  \\\n",
       " 0  RT @Cal_OES: PLS SHARE: Weâ€™re capturing wild...   \n",
       " 1  RT @Cal_OES: PLS SHARE: Weâ€™re capturing wild...   \n",
       " 2  RT @KAKEnews: California wildfires destroy mor...   \n",
       " 3  RT @KAKEnews: California wildfires destroy mor...   \n",
       " 4  RT @KAKEnews: California wildfires destroy mor...   \n",
       " \n",
       "                                                image            label  \\\n",
       " 0  data_image/california_wildfires/10_10_2017/917...      informative   \n",
       " 1  data_image/california_wildfires/10_10_2017/917...  not_informative   \n",
       " 2  data_image/california_wildfires/10_10_2017/917...      informative   \n",
       " 3  data_image/california_wildfires/10_10_2017/917...      informative   \n",
       " 4  data_image/california_wildfires/10_10_2017/917...      informative   \n",
       " \n",
       "     label_text      label_image label_text_image  \n",
       " 0  informative      informative         Positive  \n",
       " 1  informative  not_informative         Negative  \n",
       " 2  informative      informative         Positive  \n",
       " 3  informative      informative         Positive  \n",
       " 4  informative      informative         Positive  ,\n",
       "          event_name            tweet_id              image_id  \\\n",
       " 0   srilanka_floods  878185882431389696  878185882431389696_0   \n",
       " 1  hurricane_harvey  906258753707790336  906258753707790336_0   \n",
       " 2   hurricane_maria  910542719864397824  910542719864397824_0   \n",
       " 3  hurricane_harvey  906219963152785408  906219963152785408_0   \n",
       " 4   hurricane_maria  913009824195104768  913009824195104768_0   \n",
       " \n",
       "                                           tweet_text  \\\n",
       " 0  Cristofer CLEMENTE MORA now in 2nd at aguille ...   \n",
       " 1  RT @THS_College: On our way to Warrior Restora...   \n",
       " 2  Hurricane Maria batters Puerto Rico as a Cat 4...   \n",
       " 3  ZZ Top Donating ‘La Grange’ Download Sales To ...   \n",
       " 4  8am #Maria update: holding steady as a strong ...   \n",
       " \n",
       "                                                image            label  \\\n",
       " 0  data_image/srilanka_floods/23_6_2017/878185882...  not_informative   \n",
       " 1  data_image/hurricane_harvey/8_9_2017/906258753...  not_informative   \n",
       " 2  data_image/hurricane_maria/20_9_2017/910542719...      informative   \n",
       " 3  data_image/hurricane_harvey/8_9_2017/906219963...      informative   \n",
       " 4  data_image/hurricane_maria/27_9_2017/913009824...      informative   \n",
       " \n",
       "         label_text      label_image label_text_image  \n",
       " 0  not_informative  not_informative         Positive  \n",
       " 1      informative  not_informative         Negative  \n",
       " 2      informative      informative         Positive  \n",
       " 3      informative  not_informative         Negative  \n",
       " 4      informative      informative         Positive  )"
      ]
     },
     "execution_count": 3,
     "metadata": {},
     "output_type": "execute_result"
    }
   ],
   "source": [
    "import pandas as pd\n",
    "\n",
    "# Load the datasets\n",
    "train_file_path = 'crisismmd_datasplit_all/crisismmd_datasplit_all/task_informative_text_img_train.tsv'\n",
    "test_file_path = 'crisismmd_datasplit_all/crisismmd_datasplit_all/task_informative_text_img_test.tsv'\n",
    "\n",
    "# Load TSV files into DataFrames\n",
    "train_data = pd.read_csv(train_file_path, sep='\\t')\n",
    "test_data = pd.read_csv(test_file_path, sep='\\t')\n",
    "\n",
    "# Display the first few rows of each dataset\n",
    "train_data.head(), test_data.head()\n"
   ]
  },
  {
   "cell_type": "code",
   "execution_count": 17,
   "metadata": {},
   "outputs": [
    {
     "data": {
      "image/png": "[encoded data removed]",
      "text/plain": [
       "<Figure size 600x600 with 2 Axes>"
      ]
     },
     "metadata": {},
     "output_type": "display_data"
    },
    {
     "name": "stdout",
     "output_type": "stream",
     "text": [
      "Few-Shot Learning Accuracy: 0.49\n"
     ]
    }
   ],
   "source": [
    "import random\n",
    "import torch\n",
    "import pandas as pd\n",
    "from PIL import Image\n",
    "from transformers import CLIPProcessor, CLIPModel\n",
    "from sklearn.metrics import confusion_matrix\n",
    "import seaborn as sns\n",
    "import matplotlib.pyplot as plt\n",
    "\n",
    "# Load CLIP model and processor\n",
    "model = CLIPModel.from_pretrained(\"openai/clip-vit-base-patch32\")\n",
    "processor = CLIPProcessor.from_pretrained(\"openai/clip-vit-base-patch32\")\n",
    "\n",
    "# Select 20 random shots (support set) with 10 for each class\n",
    "informative_shots = train_data[train_data['label_image'] == 'informative'].sample(10, random_state=42)\n",
    "non_informative_shots = train_data[train_data['label_image'] == 'not_informative'].sample(10, random_state=42)\n",
    "shots = pd.concat([informative_shots, non_informative_shots])\n",
    "\n",
    "# Support images and labels\n",
    "support_images = shots['image']\n",
    "support_labels = shots['label_image']\n",
    "\n",
    "# Encode support set (text embeddings)\n",
    "text_inputs = processor(\n",
    "    text=[\"informative\", \"not_informative\"],\n",
    "    return_tensors=\"pt\",\n",
    "    padding=True,  # Ensure equal length\n",
    "    truncation=True  # Avoid exceeding max length\n",
    ")\n",
    "text_features = model.get_text_features(**text_inputs)\n",
    "\n",
    "# Process images and predict\n",
    "def predict_label(image_path, text_features):\n",
    "    image = Image.open(image_path).convert(\"RGB\")\n",
    "    image_input = processor(images=image, return_tensors=\"pt\")\n",
    "    image_features = model.get_image_features(**image_input)\n",
    "\n",
    "    # Normalize the image and text features\n",
    "    image_features = image_features / image_features.norm(p=2, dim=-1, keepdim=True)\n",
    "    text_features = text_features / text_features.norm(p=2, dim=-1, keepdim=True)\n",
    "\n",
    "    # Compute similarity between image and text features\n",
    "    similarity = torch.matmul(image_features, text_features.T)\n",
    "    return [\"informative\", \"not_informative\"][similarity.argmax().item()]\n",
    "\n",
    "# Create the query set by selecting images from both classes\n",
    "informative_query_images = test_data[test_data['label_image'] == 'informative']['image']\n",
    "non_informative_query_images = test_data[test_data['label_image'] == 'not_informative']['image']\n",
    "\n",
    "# Combine both informative and non-informative query images\n",
    "query_images = pd.concat([informative_query_images, non_informative_query_images])\n",
    "\n",
    "# Predict for query set\n",
    "predictions = [predict_label(img, text_features) for img in query_images]\n",
    "\n",
    "# Evaluate performance\n",
    "test_data['predicted_label_image'] = predictions\n",
    "\n",
    "# Compute the confusion matrix\n",
    "cm = confusion_matrix(test_data['label_image'], test_data['predicted_label_image'], labels=[\"informative\", \"not_informative\"])\n",
    "\n",
    "# Plot confusion matrix\n",
    "plt.figure(figsize=(6, 6))\n",
    "sns.heatmap(cm, annot=True, fmt='d', cmap='Blues', xticklabels=[\"informative\", \"not_informative\"], yticklabels=[\"informative\", \"not_informative\"])\n",
    "plt.xlabel('Predicted')\n",
    "plt.ylabel('True')\n",
    "plt.title('Confusion Matrix')\n",
    "plt.show()\n",
    "\n",
    "# Calculate accuracy\n",
    "accuracy = (test_data['predicted_label_image'] == test_data['label_image']).mean()\n",
    "print(f\"Few-Shot Learning Accuracy: {accuracy:.2f}\")\n"
   ]
  }
 ],
 "metadata": {
  "kernelspec": {
   "display_name": "Python 3",
   "language": "python",
   "name": "python3"
  },
  "language_info": {
   "codemirror_mode": {
    "name": "ipython",
    "version": 3
   },
   "file_extension": ".py",
   "mimetype": "text/x-python",
   "name": "python",
   "nbconvert_exporter": "python",
   "pygments_lexer": "ipython3",
   "version": "3.12.5"
  }
 },
 "nbformat": 4,
 "nbformat_minor": 2
}
